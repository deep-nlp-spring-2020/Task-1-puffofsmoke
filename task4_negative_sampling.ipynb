{
  "nbformat": 4,
  "nbformat_minor": 0,
  "metadata": {
    "kernelspec": {
      "name": "python3",
      "display_name": "Python 3"
    },
    "language_info": {
      "codemirror_mode": {
        "name": "ipython",
        "version": 3
      },
      "file_extension": ".py",
      "mimetype": "text/x-python",
      "name": "python",
      "nbconvert_exporter": "python",
      "pygments_lexer": "ipython3",
      "version": "3.6.10"
    },
    "colab": {
      "name": "task4_negative_sampling.ipynb",
      "provenance": [],
      "collapsed_sections": []
    },
    "accelerator": "GPU"
  },
  "cells": [
    {
      "cell_type": "markdown",
      "metadata": {
        "colab_type": "text",
        "id": "eb2BK4_AB9mv"
      },
      "source": [
        "# Assignment 1.4: Negative sampling (15 points)\n",
        "\n",
        "You may have noticed that word2vec is really slow to train. Especially with big (> 50 000) vocabularies. Negative sampling is the solution.\n",
        "\n",
        "The task is to implement word2vec with negative sampling.\n",
        "\n",
        "This is what was discussed in Stanford lecture. The main idea is in the formula:\n",
        "\n",
        "$$ L = \\log\\sigma(u^T_o \\cdot u_c) + \\sum^k_{i=1} \\mathbb{E}_{j \\sim P(w)}[\\log\\sigma(-u^T_j \\cdot u_c)]$$\n",
        "\n",
        "Where $\\sigma$ - sigmoid function, $u_c$ - central word vector, $u_o$ - context (outside of the window) word vector, $u_j$ - vector or word with index $j$.\n",
        "\n",
        "The first term calculates the similarity between positive examples (word from one window)\n",
        "\n",
        "The second term is responsible for negative samples. $k$ is a hyperparameter - the number of negatives to sample.\n",
        "$\\mathbb{E}_{j \\sim P(w)}$\n",
        "means that $j$ is distributed accordingly to unigram distribution.\n",
        "\n",
        "Thus, it is only required to calculate the similarity between positive samples and some other negatives. Not across all the vocabulary.\n",
        "\n",
        "Useful links:\n",
        "1. [Efficient Estimation of Word Representations in Vector Space](https://arxiv.org/pdf/1301.3781.pdf)\n",
        "1. [Distributed Representations of Words and Phrases and their Compositionality](http://papers.nips.cc/paper/5021-distributed-representations-of-words-and-phrases-and-their-compositionality.pdf)"
      ]
    },
    {
      "cell_type": "markdown",
      "metadata": {
        "collapsed": false,
        "id": "dMIyJuRYYzAW",
        "colab_type": "text"
      },
      "source": [
        "# Implementation\n",
        "## Use Google Colab with GPU to reproduce result"
      ]
    },
    {
      "cell_type": "markdown",
      "metadata": {
        "id": "iFSkFZFtZTos",
        "colab_type": "text"
      },
      "source": [
        "## Upload text8.zip please before run next cell"
      ]
    },
    {
      "cell_type": "code",
      "metadata": {
        "pycharm": {
          "name": "#%%\n"
        },
        "id": "zqaFdK03YzAw",
        "colab_type": "code",
        "outputId": "48695e52-ad6f-4b5f-a413-aa9a21e8894b",
        "colab": {
          "base_uri": "https://localhost:8080/",
          "height": 53
        }
      },
      "source": [
        "!rm ./text8\n",
        "!unzip ./text8.zip"
      ],
      "execution_count": 274,
      "outputs": [
        {
          "output_type": "stream",
          "text": [
            "Archive:  ./text8.zip\n",
            "  inflating: text8                   \n"
          ],
          "name": "stdout"
        }
      ]
    },
    {
      "cell_type": "markdown",
      "metadata": {
        "id": "5lC9SIcrZXoT",
        "colab_type": "text"
      },
      "source": [
        "## All imports here"
      ]
    },
    {
      "cell_type": "code",
      "metadata": {
        "pycharm": {
          "name": "#%%\n"
        },
        "id": "3JYWtIqGYzBA",
        "colab_type": "code",
        "colab": {}
      },
      "source": [
        "import torch\n",
        "from torch import nn\n",
        "import torch.optim as optim\n",
        "\n",
        "from collections import Counter\n",
        "import numpy as np\n",
        "\n",
        "import bokeh.models as bm, bokeh.plotting as pl\n",
        "from bokeh.io import output_notebook\n",
        "\n",
        "from tsnecuda import TSNE\n",
        "from sklearn import preprocessing\n",
        "\n",
        "from annoy import AnnoyIndex\n",
        "\n",
        "import matplotlib.pyplot as plt\n",
        "%matplotlib inline\n",
        "import seaborn as sns"
      ],
      "execution_count": 0,
      "outputs": []
    },
    {
      "cell_type": "markdown",
      "metadata": {
        "id": "-6n6YEheZb5p",
        "colab_type": "text"
      },
      "source": [
        "## Batcher for Skip-Gram or CBOW from previous assigment\n",
        "- torch.tensor instead of np.array used"
      ]
    },
    {
      "cell_type": "code",
      "metadata": {
        "pycharm": {
          "name": "#%%\n"
        },
        "id": "IguTMv7yYzBO",
        "colab_type": "code",
        "colab": {}
      },
      "source": [
        "class Batcher():\n",
        "    def __init__(self, text, limit=5, window_size=2, mode='sg'):\n",
        "        \"\"\"\n",
        "        Batcher for Skip-Gram or CBOW\n",
        "\n",
        "        :param text: String without newline symbols\n",
        "        :param limit: Don't put words with less amount into the dictonary\n",
        "        :param window_size: Window size ^)\n",
        "        :param mode: cbow or sg\n",
        "        \"\"\"\n",
        "\n",
        "        self.limit = limit\n",
        "        self.window_size = window_size\n",
        "        self.mode = mode\n",
        "\n",
        "        self.text = text\n",
        "\n",
        "        self.UNK = 'UNK'\n",
        "\n",
        "        self.tokens = []\n",
        "        self.tokens_ind = []\n",
        "\n",
        "\n",
        "        self.vocabulary = set()\n",
        "        self.word2index = dict()\n",
        "        self.index2word = []\n",
        "\n",
        "        self.most_common = []\n",
        "\n",
        "        self._preprocess()\n",
        "\n",
        "    @classmethod\n",
        "    def from_file(cls, path, limit=5, window_size=2, mode='sg'):\n",
        "        \"\"\"\n",
        "        Init Batcher from file\n",
        "\n",
        "        :param path: Path to text file\n",
        "        :param limit: Don't put words with less amount into the dictonary\n",
        "        :param window_size: Window size ^)\n",
        "        :param mode: cbow or sg\n",
        "        :return: Batcher object\n",
        "        \"\"\"\n",
        "        n = -1\n",
        "        with open(path) as f:\n",
        "            text = f.read(n)\n",
        "\n",
        "        return cls(text, limit, window_size, mode)\n",
        "\n",
        "    def _clean(self):\n",
        "        # Everething expect [a-z ] already killed in our dataset\n",
        "        pass\n",
        "\n",
        "    def _tokenize(self):\n",
        "        # Stupid tokenizer for our dataset\n",
        "        self.tokens = self.text.split()\n",
        "\n",
        "    def _build_vocabulary(self):\n",
        "        counter_words = Counter(self.tokens)\n",
        "        self.counter_words = counter_words\n",
        "        self.vocabulary = {word for word, counts in counter_words.items() if counts >= self.limit}\n",
        "        most_common = counter_words.most_common(200)\n",
        "        self.most_common = list(zip(*most_common))[0]\n",
        "\n",
        "    def _numericalize(self):\n",
        "        self.index2word = [self.UNK] + list(self.vocabulary)\n",
        "        self.vocabulary.add(self.UNK)\n",
        "        self.word2index = dict(zip(self.index2word, range(len(self.index2word))))\n",
        "        self.tokens_ind = [self.word2index.get(word, 0) for word in self.tokens]\n",
        "\n",
        "    def _preprocess(self):\n",
        "        self._clean()\n",
        "        self._tokenize()\n",
        "        self._build_vocabulary()\n",
        "        self._numericalize()\n",
        "\n",
        "    def indices2words(self, indices):\n",
        "        shape = indices.shape\n",
        "        result = np.array([self.index2word[idx] for idx in indices.flatten()])\n",
        "        return result.reshape(shape)\n",
        "\n",
        "    def batch_generator(self, batch_size=5):\n",
        "        \"\"\"\n",
        "        Batch generator\n",
        "\n",
        "        :param batch_size: Elements in batch\n",
        "        :return: Next batch\n",
        "        \"\"\"\n",
        "\n",
        "        # Dataset is big enought\n",
        "        # Let's skip last nonfull batch if exist\n",
        "        count_batches = (len(self.tokens) - 2 * self.window_size) // batch_size\n",
        "        print(f'count batches: {count_batches}')\n",
        "\n",
        "        for batch_id in range(count_batches):\n",
        "            batch_x = []\n",
        "            batch_label = []\n",
        "            for step_id in range(batch_size):\n",
        "                pos_word_central = step_id + self.window_size + batch_id * batch_size\n",
        "                x = self.tokens_ind[pos_word_central]\n",
        "                batch_x.append(x)\n",
        "                label_left = self.tokens_ind[pos_word_central - self.window_size : pos_word_central]\n",
        "                label_right = self.tokens_ind[pos_word_central + 1 : pos_word_central + 1 + self.window_size]\n",
        "                label = label_left + label_right\n",
        "                batch_label.append(label)\n",
        "\n",
        "            batch_x = torch.tensor(batch_x)\n",
        "            batch_label = torch.tensor(batch_label)\n",
        "            if self.mode == 'cbow':\n",
        "                batch_x, batch_label = batch_label, batch_x\n",
        "            yield batch_x, batch_label"
      ],
      "execution_count": 0,
      "outputs": []
    },
    {
      "cell_type": "markdown",
      "metadata": {
        "id": "IKeQtXG7CIDU",
        "colab_type": "text"
      },
      "source": [
        "# NegativeSamplingBatcher\n"
      ]
    },
    {
      "cell_type": "code",
      "metadata": {
        "id": "wh-TcFRUCHgV",
        "colab_type": "code",
        "colab": {}
      },
      "source": [
        "class NegativeSamplingBatcher(Batcher):\n",
        "    def __init__(self, *args, **kwargs):\n",
        "        super().__init__(*args, **kwargs)\n",
        "        self.counter_words = {}\n",
        "        # self.probabilities = np.array\n",
        "\n",
        "    #ToDo Update parent class method\n",
        "    def _build_vocabulary(self):\n",
        "        counter_words = Counter(self.tokens)\n",
        "        self.counter_words = counter_words\n",
        "        self.vocabulary = {word for word, counts in counter_words.items() if counts >= self.limit}\n",
        "        most_common = counter_words.most_common(200)\n",
        "        self.most_common = list(zip(*most_common))[0]\n",
        "\n",
        "    def _preprocess(self):\n",
        "        super()._preprocess()\n",
        "        self._count_distribution()\n",
        "\n",
        "    def _count_distribution(self):\n",
        "        frequencies = np.array([self.counter_words[word] for word in self.index2word])\n",
        "        frequencies = frequencies ** (3/4)\n",
        "        self.probabilities = frequencies / np.sum(frequencies)\n",
        "\n",
        "    def get_negative_samples(self, samples=5):\n",
        "        return torch.from_numpy(np.random.choice(len(self.probabilities), size=samples, p=self.probabilities))\n",
        "    "
      ],
      "execution_count": 0,
      "outputs": []
    },
    {
      "cell_type": "markdown",
      "metadata": {
        "collapsed": false,
        "pycharm": {
          "name": "#%% md\n"
        },
        "id": "76bRKGPvYzBX",
        "colab_type": "text"
      },
      "source": [
        "## Settings for batcher"
      ]
    },
    {
      "cell_type": "code",
      "metadata": {
        "pycharm": {
          "name": "#%%\n"
        },
        "id": "YDORu2-kYzBc",
        "colab_type": "code",
        "colab": {}
      },
      "source": [
        "window_size = 3\n",
        "batch_size = 256\n",
        "limit4dictonary = 10\n",
        "mode='cbow'"
      ],
      "execution_count": 0,
      "outputs": []
    },
    {
      "cell_type": "markdown",
      "metadata": {
        "collapsed": false,
        "id": "59ZXKfp7YzBi",
        "colab_type": "text"
      },
      "source": [
        "## Batcher initialization"
      ]
    },
    {
      "cell_type": "code",
      "metadata": {
        "pycharm": {
          "name": "#%%\n"
        },
        "id": "nmeKLT-fYzBl",
        "colab_type": "code",
        "colab": {}
      },
      "source": [
        "batcher = NegativeSamplingBatcher.from_file(path='./text8', limit=limit4dictonary, window_size=window_size, mode=mode)\n",
        "batch_generator = batcher.batch_generator(batch_size)"
      ],
      "execution_count": 0,
      "outputs": []
    },
    {
      "cell_type": "markdown",
      "metadata": {
        "id": "SnXsVN2YZf-Y",
        "colab_type": "text"
      },
      "source": [
        "## NN to train CBOW_NS word2wec"
      ]
    },
    {
      "cell_type": "code",
      "metadata": {
        "pycharm": {
          "name": "#%%\n"
        },
        "id": "pBiPmXbXYzBy",
        "colab_type": "code",
        "colab": {}
      },
      "source": [
        "class CBOW_NS(nn.Module):\n",
        "    def __init__(self, size_vocab, size_emb):\n",
        "        super().__init__()\n",
        "\n",
        "        self.emb = nn.Embedding(size_vocab, size_emb)\n",
        "        self.out = nn.Linear(size_emb, size_vocab, bias=False)\n",
        "        self.sm = nn.LogSoftmax(dim=0)\n",
        "\n",
        "    def forward(self, batch_x):\n",
        "        batch_x = self.emb(batch_x)\n",
        "        out = self.sm(self.out(batch_x)) \n",
        "        return out"
      ],
      "execution_count": 0,
      "outputs": []
    },
    {
      "cell_type": "markdown",
      "metadata": {
        "collapsed": false,
        "pycharm": {
          "name": "#%% md\n"
        },
        "id": "PQsEDnvrYzB5",
        "colab_type": "text"
      },
      "source": [
        "## Model and training settings"
      ]
    },
    {
      "cell_type": "code",
      "metadata": {
        "pycharm": {
          "name": "#%%\n"
        },
        "id": "ch8hYFjtYzB7",
        "colab_type": "code",
        "outputId": "bc8e0485-3bf4-4396-e188-4a6599367d0b",
        "colab": {
          "base_uri": "https://localhost:8080/",
          "height": 35
        }
      },
      "source": [
        "size_vocab = len(batcher.vocabulary)\n",
        "size_emb = 300\n",
        "learning_rate = 0.002\n",
        "epochs = 3\n",
        "print_every = 300\n",
        "\n",
        "USE_GPU = True\n",
        "\n",
        "if USE_GPU and torch.cuda.is_available():\n",
        "    device = torch.device('cuda')\n",
        "else:\n",
        "    device = torch.device('cpu')\n",
        "print(f'Using device: {device}')"
      ],
      "execution_count": 281,
      "outputs": [
        {
          "output_type": "stream",
          "text": [
            "Using device: cuda\n"
          ],
          "name": "stdout"
        }
      ]
    },
    {
      "cell_type": "code",
      "metadata": {
        "pycharm": {
          "name": "#%%\n"
        },
        "id": "tw62a_YBYzCE",
        "colab_type": "code",
        "colab": {}
      },
      "source": [
        "model = CBOW_NS(size_vocab=size_vocab, size_emb=size_emb)\n",
        "model = model.to(device=device)\n",
        "\n",
        "optimizer = optim.Adam(params=model.parameters(), lr=learning_rate)\n",
        "fnc_loss = nn.NLLLoss()"
      ],
      "execution_count": 0,
      "outputs": []
    },
    {
      "cell_type": "markdown",
      "metadata": {
        "collapsed": false,
        "pycharm": {
          "name": "#%% md\n"
        },
        "id": "nb-YnOuHYzCM",
        "colab_type": "text"
      },
      "source": [
        "## Training word vectors\n",
        "- No early stopping used\n",
        "- No learning rate decreasing used\n",
        "- One hrs to deadline... No time to realize matrix version.... Khm! Let's use two losses!"
      ]
    },
    {
      "cell_type": "code",
      "metadata": {
        "pycharm": {
          "name": "#%%\n",
          "is_executing": false
        },
        "id": "Mb2clEjmYzCR",
        "colab_type": "code",
        "outputId": "f67c7eee-c975-4b77-e14f-584035b0bea6",
        "colab": {
          "base_uri": "https://localhost:8080/",
          "height": 305
        }
      },
      "source": [
        "#Some magic to mention somewhere, how long it took to train\n",
        "\n",
        "%%time\n",
        "\n",
        "batches2plot = []\n",
        "losses2plot = []\n",
        "j = 0\n",
        "try:\n",
        "    for epoch in range(epochs):\n",
        "        i = 0\n",
        "        loss2print = 0\n",
        "        for batch_idx, (batch_x, batch_labels) in enumerate(batcher.batch_generator(batch_size)):\n",
        "            batch_x = batch_x.to(device=device, dtype=torch.long)\n",
        "            batch_labels = batch_labels.to(device=device, dtype=torch.long)\n",
        "\n",
        "            batch_x_neg = batcher.get_negative_samples(batch_size)\n",
        "            batch_x_neg = batch_x_neg.to(device=device, dtype=torch.long)\n",
        "\n",
        "            optimizer.zero_grad()\n",
        "\n",
        "            labels_pred = model(batch_x)\n",
        "\n",
        "\n",
        "            labels_pred_neg = model(batch_x_neg)\n",
        "            loss_neg = -fnc_loss(labels_pred_neg, batch_labels)\n",
        "            loss_neg /= batch_size\n",
        "            loss_neg.backward()\n",
        "\n",
        "\n",
        "            batch_labels = batch_labels.reshape(-1, 1).expand(-1, batch_x.size()[1]).flatten()\n",
        "            labels_pred = labels_pred.reshape(-1, labels_pred.shape[-1])\n",
        "            loss = fnc_loss(labels_pred, batch_labels)\n",
        "\n",
        "            \n",
        "\n",
        "            loss.backward()\n",
        "            optimizer.step()\n",
        "            loss2print += float(loss)\n",
        "            i+=1\n",
        "\n",
        "            if batch_idx % print_every == 0:\n",
        "                loss2print = loss2print / i\n",
        "                batches2plot.append(j * print_every)\n",
        "                j += 1\n",
        "                losses2plot.append(loss2print)\n",
        "\n",
        "                print(f'Epoch: {epoch} Iteration: {batch_idx}, loss = {loss2print}')\n",
        "                i = 0\n",
        "                loss2print = 0\n",
        "except KeyboardInterrupt:\n",
        "    print('Training Stopped')"
      ],
      "execution_count": 283,
      "outputs": [
        {
          "output_type": "stream",
          "text": [
            "count batches: 66426\n",
            "Epoch: 0 Iteration: 0, loss = 5.716185092926025\n",
            "Epoch: 0 Iteration: 300, loss = 5.591639102300008\n",
            "Epoch: 0 Iteration: 600, loss = 5.588959948221842\n",
            "Epoch: 0 Iteration: 900, loss = 5.579988498687744\n",
            "Epoch: 0 Iteration: 1200, loss = 5.580705803235372\n",
            "Epoch: 0 Iteration: 1500, loss = 5.597194746335347\n",
            "Epoch: 0 Iteration: 1800, loss = 5.578658475875854\n",
            "Epoch: 0 Iteration: 2100, loss = 5.5929874308904015\n",
            "Epoch: 0 Iteration: 2400, loss = 5.569928046862285\n",
            "Epoch: 0 Iteration: 2700, loss = 5.600867609977723\n",
            "Epoch: 0 Iteration: 3000, loss = 5.557397723197937\n",
            "Epoch: 0 Iteration: 3300, loss = 5.59805239200592\n",
            "Training Stopped\n",
            "CPU times: user 1min 23s, sys: 49.9 s, total: 2min 12s\n",
            "Wall time: 2min 13s\n"
          ],
          "name": "stdout"
        }
      ]
    },
    {
      "cell_type": "markdown",
      "metadata": {
        "collapsed": false,
        "pycharm": {
          "name": "#%% md\n"
        },
        "id": "Yv9rpO6vYzCX",
        "colab_type": "text"
      },
      "source": [
        "# Plotted Loss"
      ]
    },
    {
      "cell_type": "code",
      "metadata": {
        "pycharm": {
          "name": "#%%\n",
          "is_executing": false
        },
        "id": "AxS0PEmhYzCb",
        "colab_type": "code",
        "outputId": "71f6cac8-959d-49c2-f99c-b92fed947957",
        "colab": {
          "base_uri": "https://localhost:8080/",
          "height": 297
        }
      },
      "source": [
        "sns.lineplot(batches2plot, losses2plot).set(xlabel='Batch', ylabel='Loss')"
      ],
      "execution_count": 284,
      "outputs": [
        {
          "output_type": "execute_result",
          "data": {
            "text/plain": [
              "[Text(0, 0.5, 'Loss'), Text(0.5, 0, 'Batch')]"
            ]
          },
          "metadata": {
            "tags": []
          },
          "execution_count": 284
        },
        {
          "output_type": "display_data",
          "data": {
            "image/png": "[encoded data removed]",
            "text/plain": [
              "<Figure size 432x288 with 1 Axes>"
            ]
          },
          "metadata": {
            "tags": []
          }
        }
      ]
    },
    {
      "cell_type": "code",
      "metadata": {
        "id": "T0gClTtVt8Ki",
        "colab_type": "code",
        "colab": {}
      },
      "source": [
        ""
      ],
      "execution_count": 0,
      "outputs": []
    }
  ]
}